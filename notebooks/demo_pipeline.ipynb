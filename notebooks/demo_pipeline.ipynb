{
 "cells": [
  {
   "cell_type": "markdown",
   "id": "99d14044",
   "metadata": {},
   "source": [
    "# DEMO: Pipeline RAG PDF — End-to-End"
   ]
  },
  {
   "cell_type": "markdown",
   "id": "e65fa88d",
   "metadata": {},
   "source": [
    "Ce notebook met en œuvre un pipeline complet de type RAG (Retrieval-Augmented Generation), spécifiquement conçu pour interroger, comprendre et exploiter automatiquement des documents contractuels au format PDF de la MAIF"
   ]
  },
  {
   "cell_type": "markdown",
   "id": "9bf0822d",
   "metadata": {},
   "source": [
    "## 1. Configuration de l'environnement\n"
   ]
  },
  {
   "cell_type": "code",
   "execution_count": null,
   "id": "b7092290",
   "metadata": {},
   "outputs": [],
   "source": [
    "import os\n",
    "import sys\n",
    "\n",
    "# Ajouter le dossier racine du projet au path Python\n",
    "PROJECT_ROOT = os.path.abspath(os.path.join(os.getcwd(), \"..\"))\n",
    "if PROJECT_ROOT not in sys.path:\n",
    "    sys.path.append(PROJECT_ROOT)"
   ]
  },
  {
   "cell_type": "markdown",
   "id": "a275e573",
   "metadata": {},
   "source": [
    "## 2. Imports des modules du pipeline"
   ]
  },
  {
   "cell_type": "code",
   "execution_count": null,
   "id": "ed9ec2c7",
   "metadata": {},
   "outputs": [],
   "source": [
    "from core.config import PDF_DIR, INDEX_PATH, METADATA_PATH\n",
    "from core.loader import load_pdfs\n",
    "from core.chunker import chunk_texts  \n",
    "from core.embedder import embed_chunks\n",
    "from core.vector_store import FaissIndex\n",
    "from core.retriever import RAGRetriever\n",
    "from core.generator import generate_answer\n"
   ]
  },
  {
   "cell_type": "markdown",
   "id": "fef5e52d",
   "metadata": {},
   "source": [
    "\n",
    "## 3. Chargement des documents PDF\n",
    "\n",
    "- Lecture de tous les fichiers PDF dans le répertoire `PDF_DIR`.\n",
    "\n"
   ]
  },
  {
   "cell_type": "code",
   "execution_count": 10,
   "id": "44a8343e",
   "metadata": {},
   "outputs": [
    {
     "name": "stdout",
     "output_type": "stream",
     "text": [
      "✅ 5 documents PDF chargés.\n"
     ]
    }
   ],
   "source": [
    "\n",
    "docs = load_pdfs(PDF_DIR)\n",
    "print(f\"✅ {len(docs)} documents PDF chargés.\")"
   ]
  },
  {
   "cell_type": "markdown",
   "id": "4dab34cc",
   "metadata": {},
   "source": [
    "## 4. Chunking des textes\n",
    "\n"
   ]
  },
  {
   "cell_type": "code",
   "execution_count": 11,
   "id": "eb05cfd1",
   "metadata": {},
   "outputs": [
    {
     "name": "stdout",
     "output_type": "stream",
     "text": [
      "✅ 1845 chunks générés.\n"
     ]
    }
   ],
   "source": [
    "chunks = chunk_texts(docs)\n",
    "print(f\"✅ {len(chunks)} chunks générés.\")"
   ]
  },
  {
   "cell_type": "markdown",
   "id": "8ebe0f9e",
   "metadata": {},
   "source": [
    "## 5. Calcul des embeddings\n",
    "\n",
    "- Transformation des chunks en vecteurs via le modèle d'embeddings."
   ]
  },
  {
   "cell_type": "code",
   "execution_count": 12,
   "id": "4205c0ce",
   "metadata": {},
   "outputs": [
    {
     "name": "stdout",
     "output_type": "stream",
     "text": [
      "✅ 1845 vecteurs créés (dimension = 384).\n"
     ]
    }
   ],
   "source": [
    "embeddings = embed_chunks(chunks)\n",
    "# Vérification de la forme\n",
    "import numpy as np\n",
    "embeddings = np.asarray(embeddings, dtype='float32')\n",
    "print(f\"✅ {embeddings.shape[0]} vecteurs créés (dimension = {embeddings.shape[1]}).\")"
   ]
  },
  {
   "cell_type": "markdown",
   "id": "2b7e2a0d",
   "metadata": {},
   "source": [
    "## 6. Construction de l'index FAISS\n",
    "\n",
    "- Création d'un index et ajout des embeddings et métadonnées."
   ]
  },
  {
   "cell_type": "code",
   "execution_count": 13,
   "id": "f8012e23",
   "metadata": {},
   "outputs": [
    {
     "name": "stdout",
     "output_type": "stream",
     "text": [
      "✅ Index FAISS créé avec 1845 vecteurs.\n"
     ]
    }
   ],
   "source": [
    "index = FaissIndex(dim=embeddings.shape[1])\n",
    "index.add(embeddings, metadatas=chunks)\n",
    "print(f\"✅ Index FAISS créé avec {index.index.ntotal} vecteurs.\")"
   ]
  },
  {
   "cell_type": "markdown",
   "id": "215e989b",
   "metadata": {},
   "source": [
    "## 7. Sauvegarde de l'index et des métadonnées\n",
    "\n"
   ]
  },
  {
   "cell_type": "code",
   "execution_count": 14,
   "id": "70a01927",
   "metadata": {},
   "outputs": [
    {
     "name": "stdout",
     "output_type": "stream",
     "text": [
      "✅ Index et métadonnées sauvegardés avec succès.\n"
     ]
    }
   ],
   "source": [
    "os.makedirs(os.path.dirname(INDEX_PATH), exist_ok=True)\n",
    "index.save(INDEX_PATH, METADATA_PATH)\n",
    "print(\"✅ Index et métadonnées sauvegardés avec succès.\")"
   ]
  },
  {
   "cell_type": "markdown",
   "id": "c3af303e",
   "metadata": {},
   "source": [
    "## 8. Exemple de requête RAG\n",
    "\n"
   ]
  },
  {
   "cell_type": "code",
   "execution_count": null,
   "id": "8c3bc901",
   "metadata": {},
   "outputs": [
    {
     "name": "stdout",
     "output_type": "stream",
     "text": [
      "\n",
      "✅ Chunks récupérés :\n",
      "\n",
      "Chunk 1 — Doc : Conditions+generales+Maif+assurance+habitation+Raqvam.pdf — Score : 0.6390\n",
      "en œuvre les moyens de prévention et de protection définis par les lois et règlements en vigueur, en particulier par les plans de prévention des risques naturels. Ces plans sont annexés aux plans  locaux d’urbanisme (anciennement plans d’occupation des sols) et font l’objet d’un affichage en  mairie\n",
      "————————————————————————————————————————————————————————————————————————————————\n",
      "Chunk 2 — Doc : aha-cg-filia.pdf — Score : 0.7843\n",
      "prévention des risques naturels. Ces plans sont annexés aux plans locaux d’urbanisme (anciennement plans  d’occupation des sols) et font l’objet d’un affichage en mairie et d’une publicité par voie de presse locale. En cas de manquement de votre part à ces obligations, MAIF est fondée à vous réclame\n",
      "————————————————————————————————————————————————————————————————————————————————\n",
      "Chunk 3 — Doc : conditions-generales-assurance-protection-juridique-maif.pdf — Score : 0.8441\n",
      "–  Achat/vente d’un bien immobilier –  Construction et travaux immobiliers2 –  Copropriété  –  Urbanisme et environnement (déclaration de trava ux,  permis de construire, expropriation…)2  Pour les litiges liés à l’univers automobile  • Consommations de biens et de services    –  Vice cac hé suite à\n",
      "————————————————————————————————————————————————————————————————————————————————\n",
      "Chunk 4 — Doc : aha-cg-filia.pdf — Score : 0.9164\n",
      "–  si les locaux sont chauffés, calorifuger les conduites situées dans les parties non chauffées (grenier, combles…). À l’extérieur Les canalisations extérieures d’alimentation ou d’évacuation d’eau du logement et la fosse septique doivent être  implantées hors gel et/ou les canalisations extérieure\n",
      "————————————————————————————————————————————————————————————————————————————————\n",
      "Chunk 5 — Doc : aha-cg-filia.pdf — Score : 0.9264\n",
      "Ne sont pas pris en charge les clés, serrures et/ou tout autre système d’ouverture et de fermeture des portes  des parties collectives d’immeubles.Si vous êtes propriétaire de biens immobiliers exposés à des risques naturels, vous devez mettre en œuvre les  moyens de prévention et de protection défi\n",
      "————————————————————————————————————————————————————————————————————————————————\n"
     ]
    }
   ],
   "source": [
    "# Initialisation du retriever\n",
    "retriever = RAGRetriever()\n",
    "\n",
    "# Query\n",
    "query = \"Comment sont annexés les plans locaux d'urbanisme ?\"\n",
    "\n",
    "# Récupération des chunks\n",
    "results = retriever.retrieve(query, top_k=5)\n",
    "\n",
    "# Affichage des résultats\n",
    "print(\"\\n✅ Chunks récupérés :\\n\")\n",
    "for i, (chunk, score) in enumerate(results, start=1):\n",
    "    print(f\"Chunk {i} — Doc : {chunk.get('doc_id')} — Score : {score:.4f}\")\n",
    "    print(chunk.get('text')[:300].replace('\\n', ' '))\n",
    "    print(\"—\" * 80)"
   ]
  },
  {
   "cell_type": "markdown",
   "id": "1a3ecf13",
   "metadata": {},
   "source": [
    "## 9. Génération de réponse via LLM\n",
    "\n",
    "- Utilisation des chunks récupérés pour produire une réponse contextualisée."
   ]
  },
  {
   "cell_type": "code",
   "execution_count": 19,
   "id": "a49abbd9",
   "metadata": {},
   "outputs": [
    {
     "name": "stdout",
     "output_type": "stream",
     "text": [
      "\n",
      " Réponse générée :\n",
      "\n",
      "Les plans locaux d'urbanisme sont annexés aux plans de prévention des risques naturels, eux-mêmes annexés aux plans locaux d'urbanisme qui étaient auparavant appelés plans d'occupation des sols (passages 1, 2 et 5). Ces annexions sont rendues publiques par un affichage en mairie et une publicité dans la presse locale.\n"
     ]
    }
   ],
   "source": [
    "\n",
    "answer = generate_answer(results, query)\n",
    "print(\"\\n Réponse générée :\\n\")\n",
    "print(answer)\n"
   ]
  }
 ],
 "metadata": {
  "kernelspec": {
   "display_name": ".venv",
   "language": "python",
   "name": "python3"
  },
  "language_info": {
   "codemirror_mode": {
    "name": "ipython",
    "version": 3
   },
   "file_extension": ".py",
   "mimetype": "text/x-python",
   "name": "python",
   "nbconvert_exporter": "python",
   "pygments_lexer": "ipython3",
   "version": "3.11.12"
  }
 },
 "nbformat": 4,
 "nbformat_minor": 5
}
